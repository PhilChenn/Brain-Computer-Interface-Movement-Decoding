{
 "cells": [
  {
   "cell_type": "code",
   "execution_count": 1,
   "id": "operational-flesh",
   "metadata": {},
   "outputs": [],
   "source": [
    "import numpy as np\n",
    "import pandas as pd\n",
    "import matplotlib.pyplot as plt\n",
    "from itertools import cycle\n",
    "import math\n",
    "import random\n",
    "\n",
    "from sklearn import svm, datasets\n",
    "from sklearn.metrics import roc_curve, auc\n",
    "from sklearn.model_selection import train_test_split\n",
    "from sklearn.preprocessing import label_binarize\n",
    "from sklearn.multiclass import OneVsRestClassifier\n",
    "from scipy import interp\n",
    "from sklearn.metrics import roc_auc_score"
   ]
  },
  {
   "cell_type": "code",
   "execution_count": 2,
   "id": "hawaiian-technique",
   "metadata": {},
   "outputs": [],
   "source": [
    "def data_loader(filename):\n",
    "    data = np.genfromtxt(filename, delimiter=',', dtype=float)\n",
    "    data = data[data[:,1].argsort()]\n",
    "    X = data[:,1]\n",
    "    truth = data[:,0]\n",
    "    return X, truth"
   ]
  },
  {
   "cell_type": "code",
   "execution_count": 6,
   "id": "continent-fraction",
   "metadata": {},
   "outputs": [],
   "source": [
    "def roc_generator(X, truth, beta_rule='all_stats'):\n",
    "    assert beta_rule in ['all_stats', 'lin_sample', 'every_nth_stat', 'all_pf_stats', 'lin_sample_pfa']\n",
    "     \n",
    "    ftotal = X[truth==0].size\n",
    "    dtotal = X[truth==1].size\n",
    "    \n",
    "    if beta_rule == 'all_stats':\n",
    "        beta = np.insert(X, 0, -math.inf)\n",
    "        beta = np.append(beta, math.inf)\n",
    "    elif beta_rule == 'lin_sample':\n",
    "        beta = np.linspace(X.min(), X.max(), 99, endpoint=True)\n",
    "        beta = np.insert(beta, 0, -math.inf)\n",
    "        beta = np.append(beta, math.inf)\n",
    "    elif beta_rule == 'every_nth_stat':\n",
    "        if X.size // 99 != 0:\n",
    "            n = X.size // 99\n",
    "            beta = X[n::n]\n",
    "            assert beta.size == 99, 'Number of sample less than 99.'\n",
    "        else:\n",
    "            beta = X        \n",
    "        beta = np.insert(beta, 0, -math.inf)\n",
    "        beta = np.append(beta, math.inf)\n",
    "    elif beta_rule == 'all_pf_stats':\n",
    "        beta = X[truth==0]\n",
    "        beta = np.insert(beta, 0, -math.inf)\n",
    "        beta = np.append(beta, math.inf)\n",
    "    elif beta_rule == 'lin_sample_pfa':\n",
    "        h0 = X[truth==0]\n",
    "        h0_geq_cnt = np.ceil(h0.size*np.linspace(0, 1, 101, endpoint=True))\n",
    "        beta = sorted([h0[-int(i)] for i in h0_geq_cnt])\n",
    "        \n",
    "    coordinates = [] # store each (Pf, Pd) pair under each beta.\n",
    "    for b in beta:\n",
    "        fcount, dcount = 0, 0\n",
    "        for num in X[truth==0]:\n",
    "            if num >= b:\n",
    "                fcount += 1\n",
    "        for num in X[truth==1]:\n",
    "            if num >= b:\n",
    "                dcount += 1\n",
    "        coordinates.append([fcount/ftotal, dcount/dtotal])\n",
    "    \n",
    "    return coordinates"
   ]
  },
  {
   "cell_type": "code",
   "execution_count": 7,
   "id": "present-school",
   "metadata": {},
   "outputs": [],
   "source": [
    "def plot_roc(coordinates, mode='all', title=''):\n",
    "    plt.figure(figsize=(10,10))\n",
    "    plot_title = title + ' ROC Plot'\n",
    "    plt.title(plot_title)\n",
    "\n",
    "    beta_rule = ['all_stats', 'lin_sample', 'every_nth_stat', 'all_pf_stats', 'lin_sample_pfa']\n",
    "    color_line = {\n",
    "        '.':'navy',\n",
    "        '--':'green',\n",
    "        '-.':'yellow',\n",
    "        'v':'gray',\n",
    "        'o':'pink'\n",
    "    }\n",
    "    if mode == 'all':\n",
    "        for b, c in zip(beta_rule, color_line.items()):\n",
    "            roc_data = coordinates\n",
    "            roc = np.array(roc_data)\n",
    "            x, y = roc.T\n",
    "            plt.plot(x, y, c[0], color=c[1], markersize=4, label=b)\n",
    "            plt.legend(loc='center right')\n",
    "    else:\n",
    "        for ind in mode:\n",
    "            roc_data = coordinates\n",
    "            roc = np.array(roc_data)\n",
    "            x, y = roc.T\n",
    "            plt.plot(x, y, list(color_line.keys())[ind], color=list(color_line.values())[ind], markersize=4, label=beta_rule[ind])\n",
    "            plt.legend(loc='center right')\n",
    "\n",
    "    plt.plot([0, 1], [0, 1],'r--', linewidth=1)\n",
    "    plt.xlim([-0.01, 1.01])\n",
    "    plt.ylim([-0.01, 1.01])\n",
    "    plt.ylabel('Detection Rate')\n",
    "    plt.xlabel('False Alarm Rate')\n",
    "    plt.show()"
   ]
  },
  {
   "cell_type": "code",
   "execution_count": 8,
   "id": "grand-american",
   "metadata": {
    "collapsed": true,
    "jupyter": {
     "outputs_hidden": true
    }
   },
   "outputs": [
    {
     "data": {
      "image/png": "[encoded data removed]",
      "text/plain": [
       "<Figure size 720x720 with 1 Axes>"
      ]
     },
     "metadata": {
      "needs_background": "light"
     },
     "output_type": "display_data"
    }
   ],
   "source": [
    "# X, truth = data_loader('logNormalData.csv')\n",
    "# coord = roc_generator(X, truth)\n",
    "# plot_roc(coord, mode=[1], title='log normal')"
   ]
  },
  {
   "cell_type": "code",
   "execution_count": 4,
   "id": "medium-translator",
   "metadata": {},
   "outputs": [],
   "source": [
    "def plot_simple_roc(lambdas, y_tru):\n",
    "    knn_coord = roc_generator(lambdas, y_true)\n",
    "    roc = np.array(knn_coord)\n",
    "    x, y = roc.T\n",
    "#     plt.figure(figsize=(6,6))\n",
    "    plt.plot(x, y)\n",
    "    plt.plot([0, 1], [0, 1],'r--', linewidth=1)\n",
    "    plt.xlim([-0.01, 1.01])\n",
    "    plt.ylim([-0.01, 1.01])\n",
    "    plt.ylabel('Detection Rate')\n",
    "    plt.xlabel('False Alarm Rate')\n",
    "#     plt.show()\n",
    "    return plt"
   ]
  },
  {
   "cell_type": "code",
   "execution_count": 12,
   "id": "handled-frost",
   "metadata": {},
   "outputs": [],
   "source": [
    "def probDecRule(filename):\n",
    "    data = np.genfromtxt(filename, delimiter=',', dtype=float)\n",
    "#     data = data[data[:,1].argsort()]\n",
    "    y_true = data[:,0]\n",
    "    lambdas = data[:,1]\n",
    "    h0_ind = [i for i,x in enumerate(y_true) if x==0]\n",
    "    h1_ind = [i for i,x in enumerate(y_true) if x==1]\n",
    "    h0_lst = lambdas[h0_ind].tolist()\n",
    "    h1_lst = lambdas[h1_ind].tolist()\n",
    "    \n",
    "    PD=np.zeros(500)\n",
    "    PFA=np.zeros(500)\n",
    "    p = .75\n",
    "    b = .3333\n",
    "    for i in range(500):\n",
    "        lst = []\n",
    "        num_h0 = 0\n",
    "        num_h1 = 0\n",
    "        for l,t in enumerate(lambdas.tolist()):\n",
    "            if t >= b:\n",
    "                lst.append(1)\n",
    "            else:\n",
    "                #lst.append(0)\n",
    "             \n",
    "                r = random.uniform(0, 1)\n",
    "                if r <= p:\n",
    "                    lst.append(1)\n",
    "                else:\n",
    "                    lst.append(0)\n",
    "    \n",
    "        lst = np.asarray(lst)\n",
    "        \n",
    "        fp = np.sum((lst == 1) & (y_true == 0))\n",
    "        tp = np.sum((lst == 1) & (y_true == 1))\n",
    "\n",
    "        fn = np.sum((lst == 0) & (y_true == 1))\n",
    "        tn = np.sum((lst == 0) & (y_true == 0))\n",
    "        \n",
    "        PD[i] = tp / (tp + fn)\n",
    "        PFA[i] = fp / (fp + tn)\n",
    "    return PD, PFA"
   ]
  },
  {
   "cell_type": "code",
   "execution_count": 17,
   "id": "intended-battery",
   "metadata": {},
   "outputs": [
    {
     "data": {
      "image/png": "[encoded data removed]",
      "text/plain": [
       "<Figure size 720x720 with 1 Axes>"
      ]
     },
     "metadata": {
      "needs_background": "light"
     },
     "output_type": "display_data"
    }
   ],
   "source": [
    "# plt.figure(figsize=(10,10))\n",
    "\n",
    "# y, x = probDecRule('knn3DecisionStatistics.csv')\n",
    "\n",
    "# plt.plot(x, y, '.', color='navy', markersize=4)\n",
    "# plt.plot([0, 1], [0, 1],'r--', linewidth=1)\n",
    "# plt.xlim([-0.01, 1.01])\n",
    "# plt.ylim([-0.01, 1.01])\n",
    "# plt.ylabel('Detection Rate')\n",
    "# plt.xlabel('False Alarm Rate')\n",
    "# plt.show()"
   ]
  },
  {
   "cell_type": "code",
   "execution_count": null,
   "id": "solar-installation",
   "metadata": {},
   "outputs": [],
   "source": []
  },
  {
   "cell_type": "code",
   "execution_count": 6,
   "id": "dress-grace",
   "metadata": {},
   "outputs": [],
   "source": [
    "# Implement two-level cross validation \n",
    "# Not used in this project\n",
    "\n",
    "def cross_validate_svc(X, y, search_space, roc_show=False, img_show=False):\n",
    "    # configure the cross-validation procedure\n",
    "    cv_outer = StratifiedKFold(n_splits=6, shuffle=True, random_state=0)\n",
    "    # enumerate splits\n",
    "    outer_results = list()\n",
    "    # hyperparameter to update\n",
    "    acc_to_optimize = 0\n",
    "    reg_param = np.max(search_space)\n",
    "    \n",
    "    # add subplot \n",
    "    if roc_show:\n",
    "        fig, ax = plt.subplots(figsize=(6, 6))\n",
    "        \n",
    "#     if img_show:\n",
    "#         fig2 = plt.figure(figsize=(6, 6))\n",
    "    \n",
    "    for i, (train_ix, test_ix) in enumerate(cv_outer.split(X, y)):\n",
    "        # split data\n",
    "        X_train, X_test = X[train_ix, :], X[test_ix, :]\n",
    "#         print('X train: {} | X test: {}'.format(X_train.shape, X_test.shape))\n",
    "        y_train, y_test = y[train_ix], y[test_ix]\n",
    "        # configure the cross-validation procedure\n",
    "        cv_inner = StratifiedKFold(n_splits=5, shuffle=True, random_state=1)\n",
    "        # define the model\n",
    "        model = SVC(kernel='linear', C=0.01, max_iter=1e5, random_state=42, probability=True)\n",
    "        # define search space\n",
    "        Cs = search_space\n",
    "        # define search\n",
    "        search = GridSearchCV(model, param_grid=dict(C=Cs), scoring='accuracy', n_jobs=-1, cv=cv_inner, refit=True)\n",
    "        # execute search\n",
    "        result = search.fit(X_train, y_train)\n",
    "        # get the best performing model fit on the whole training set\n",
    "        best_model = result.best_estimator_\n",
    "        # evaluate model on the hold out dataset\n",
    "        yhat = best_model.predict_proba(X_test)\n",
    "        # evaluate the model\n",
    "        acc = best_model.score(X_test, y_test)\n",
    "        # update hyperparameter\n",
    "        if acc > acc_to_optimize:\n",
    "            reg_param = result.best_params_['C']\n",
    "        # store the result\n",
    "        outer_results.append(acc)\n",
    "        # report progress\n",
    "        print('>acc=%.3f, est=%.3f, cfg=%s' % (acc, result.best_score_, result.best_params_))\n",
    "        if roc_show:\n",
    "            plot_roc_curve(best_model, X_test, y_test, ax=ax)\n",
    "        if img_show:\n",
    "#             plt.subplot(2, 3, i+1)\n",
    "            show_chanWeights(np.abs(best_model.coef_[0]))\n",
    "    # summarize the estimated performance of the model\n",
    "    print('Accuracy: %.3f (%.3f)' % (np.mean(outer_results), np.std(outer_results)))\n",
    "    plt.show()\n",
    "#     clf = SVC(kernel='linear', C=reg_param, max_iter=1e5, random_state=42, probability=True)\n",
    "#     clf.fit(X, y)\n",
    "#     opt_acc = clf.score(X, y)\n",
    "#     print('Accuracy: %.3f' % ((opt_acc)))\n",
    "#     plot_roc_curve(clf, X, y)"
   ]
  }
 ],
 "metadata": {
  "kernelspec": {
   "display_name": "Python 3",
   "language": "python",
   "name": "python3"
  },
  "language_info": {
   "codemirror_mode": {
    "name": "ipython",
    "version": 3
   },
   "file_extension": ".py",
   "mimetype": "text/x-python",
   "name": "python",
   "nbconvert_exporter": "python",
   "pygments_lexer": "ipython3",
   "version": "3.8.5"
  }
 },
 "nbformat": 4,
 "nbformat_minor": 5
}
